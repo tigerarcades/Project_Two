{
 "cells": [
  {
   "cell_type": "markdown",
   "metadata": {},
   "source": [
    "# Personality vs Risk of Drug Use\n",
    "## Team\n",
    "- Florian Salihovic<br>\n",
    "- Hermann Weiss<br>"
   ]
  },
  {
   "cell_type": "markdown",
   "metadata": {},
   "source": [
    "## 00 - Set Up Workshop"
   ]
  },
  {
   "cell_type": "code",
   "execution_count": 10,
   "metadata": {},
   "outputs": [],
   "source": [
    "import pandas as pd\n",
    "import matplotlib.pyplot as plt"
   ]
  },
  {
   "cell_type": "code",
   "execution_count": 1,
   "metadata": {},
   "outputs": [],
   "source": [
    "## Settings\n",
    "%matplotlib inline"
   ]
  },
  {
   "cell_type": "markdown",
   "metadata": {},
   "source": [
    "## 01 - Business Understanding\n",
    "|Input|Process|Output|\n",
    "|-|-|-|\n",
    "|Domain Problem|Review Source Material|Data Problem|\n",
    "|Source Material|||"
   ]
  },
  {
   "cell_type": "code",
   "execution_count": null,
   "metadata": {},
   "outputs": [],
   "source": []
  },
  {
   "cell_type": "markdown",
   "metadata": {},
   "source": [
    "## 02 - Data Mining\n",
    "|Input|Process|Output|\n",
    "|-|-|-|\n",
    "|Source Material|Importing Data|Raw Data|\n",
    "|||Data Dictionary|"
   ]
  },
  {
   "cell_type": "code",
   "execution_count": 3,
   "metadata": {},
   "outputs": [],
   "source": [
    "# Importing Data from CSV File\n",
    "path = \"drug_consumption.csv\"\n",
    "seperator = \",\"\n",
    "data_raw = pd.read_csv(path , sep = seperator)"
   ]
  },
  {
   "cell_type": "code",
   "execution_count": 4,
   "metadata": {},
   "outputs": [],
   "source": [
    "# Turn into DataFrame\n",
    "data_raw = pd.DataFrame(data_raw)"
   ]
  },
  {
   "cell_type": "code",
   "execution_count": 5,
   "metadata": {},
   "outputs": [],
   "source": [
    "## Hand over Raw Data to Data Exploration\n",
    "# Internal\n",
    "data_exp = data_raw.copy()"
   ]
  },
  {
   "cell_type": "markdown",
   "metadata": {},
   "source": [
    "## 03 - Data Exploration\n",
    "|Input|Process|Output|\n",
    "|-|-|-|\n",
    "|Raw Data|View Examplory Observations|Dataset Insights|\n",
    "|Data Dictionary|Examine Datatypes|Data Dictionary Updates|\n",
    "| | Examine Column Names||\n",
    "| | Examine Target Variable||\n",
    "| | Examine general Extent of Data||\n",
    "| | Visual Exploration||"
   ]
  },
  {
   "cell_type": "markdown",
   "metadata": {},
   "source": [
    "### 03-01 : Examine general Extent of Data\n",
    "- Number of Observations / features"
   ]
  },
  {
   "cell_type": "code",
   "execution_count": 6,
   "metadata": {},
   "outputs": [
    {
     "name": "stdout",
     "output_type": "stream",
     "text": [
      "Observations: 1885 Features: 32\n"
     ]
    }
   ],
   "source": [
    "print(\"Observations:\",data_exp.shape[0],\"Features:\",data_exp.shape[1])"
   ]
  },
  {
   "cell_type": "markdown",
   "metadata": {},
   "source": [
    "### 03-02 : View Examplory Observations\n",
    "- Choose number of Observations<br>\n",
    "- Display first and last Observations<br>"
   ]
  },
  {
   "cell_type": "code",
   "execution_count": 7,
   "metadata": {
    "scrolled": false
   },
   "outputs": [
    {
     "data": {
      "text/html": [
       "<div>\n",
       "<style scoped>\n",
       "    .dataframe tbody tr th:only-of-type {\n",
       "        vertical-align: middle;\n",
       "    }\n",
       "\n",
       "    .dataframe tbody tr th {\n",
       "        vertical-align: top;\n",
       "    }\n",
       "\n",
       "    .dataframe thead th {\n",
       "        text-align: right;\n",
       "    }\n",
       "</style>\n",
       "<table border=\"1\" class=\"dataframe\">\n",
       "  <thead>\n",
       "    <tr style=\"text-align: right;\">\n",
       "      <th></th>\n",
       "      <th>ID</th>\n",
       "      <th>Age</th>\n",
       "      <th>Gender</th>\n",
       "      <th>Education</th>\n",
       "      <th>Country</th>\n",
       "      <th>Ethnicity</th>\n",
       "      <th>Nscore</th>\n",
       "      <th>Escore</th>\n",
       "      <th>Oscore</th>\n",
       "      <th>Ascore</th>\n",
       "      <th>...</th>\n",
       "      <th>Ecstasy</th>\n",
       "      <th>Heroin</th>\n",
       "      <th>Ketamine</th>\n",
       "      <th>Legalh</th>\n",
       "      <th>LSD</th>\n",
       "      <th>Meth</th>\n",
       "      <th>Shrooms</th>\n",
       "      <th>Nicotine</th>\n",
       "      <th>Semer</th>\n",
       "      <th>VSA</th>\n",
       "    </tr>\n",
       "  </thead>\n",
       "  <tbody>\n",
       "    <tr>\n",
       "      <th>0</th>\n",
       "      <td>1</td>\n",
       "      <td>0.49788</td>\n",
       "      <td>0.48246</td>\n",
       "      <td>-0.05921</td>\n",
       "      <td>0.96082</td>\n",
       "      <td>0.12600</td>\n",
       "      <td>0.31287</td>\n",
       "      <td>-0.57545</td>\n",
       "      <td>-0.58331</td>\n",
       "      <td>-0.91699</td>\n",
       "      <td>...</td>\n",
       "      <td>CL0</td>\n",
       "      <td>CL0</td>\n",
       "      <td>CL0</td>\n",
       "      <td>CL0</td>\n",
       "      <td>CL0</td>\n",
       "      <td>CL0</td>\n",
       "      <td>CL0</td>\n",
       "      <td>CL2</td>\n",
       "      <td>CL0</td>\n",
       "      <td>CL0</td>\n",
       "    </tr>\n",
       "    <tr>\n",
       "      <th>1</th>\n",
       "      <td>2</td>\n",
       "      <td>-0.07854</td>\n",
       "      <td>-0.48246</td>\n",
       "      <td>1.98437</td>\n",
       "      <td>0.96082</td>\n",
       "      <td>-0.31685</td>\n",
       "      <td>-0.67825</td>\n",
       "      <td>1.93886</td>\n",
       "      <td>1.43533</td>\n",
       "      <td>0.76096</td>\n",
       "      <td>...</td>\n",
       "      <td>CL4</td>\n",
       "      <td>CL0</td>\n",
       "      <td>CL2</td>\n",
       "      <td>CL0</td>\n",
       "      <td>CL2</td>\n",
       "      <td>CL3</td>\n",
       "      <td>CL0</td>\n",
       "      <td>CL4</td>\n",
       "      <td>CL0</td>\n",
       "      <td>CL0</td>\n",
       "    </tr>\n",
       "    <tr>\n",
       "      <th>2</th>\n",
       "      <td>3</td>\n",
       "      <td>0.49788</td>\n",
       "      <td>-0.48246</td>\n",
       "      <td>-0.05921</td>\n",
       "      <td>0.96082</td>\n",
       "      <td>-0.31685</td>\n",
       "      <td>-0.46725</td>\n",
       "      <td>0.80523</td>\n",
       "      <td>-0.84732</td>\n",
       "      <td>-1.62090</td>\n",
       "      <td>...</td>\n",
       "      <td>CL0</td>\n",
       "      <td>CL0</td>\n",
       "      <td>CL0</td>\n",
       "      <td>CL0</td>\n",
       "      <td>CL0</td>\n",
       "      <td>CL0</td>\n",
       "      <td>CL1</td>\n",
       "      <td>CL0</td>\n",
       "      <td>CL0</td>\n",
       "      <td>CL0</td>\n",
       "    </tr>\n",
       "    <tr>\n",
       "      <th>3</th>\n",
       "      <td>4</td>\n",
       "      <td>-0.95197</td>\n",
       "      <td>0.48246</td>\n",
       "      <td>1.16365</td>\n",
       "      <td>0.96082</td>\n",
       "      <td>-0.31685</td>\n",
       "      <td>-0.14882</td>\n",
       "      <td>-0.80615</td>\n",
       "      <td>-0.01928</td>\n",
       "      <td>0.59042</td>\n",
       "      <td>...</td>\n",
       "      <td>CL0</td>\n",
       "      <td>CL0</td>\n",
       "      <td>CL2</td>\n",
       "      <td>CL0</td>\n",
       "      <td>CL0</td>\n",
       "      <td>CL0</td>\n",
       "      <td>CL0</td>\n",
       "      <td>CL2</td>\n",
       "      <td>CL0</td>\n",
       "      <td>CL0</td>\n",
       "    </tr>\n",
       "    <tr>\n",
       "      <th>4</th>\n",
       "      <td>5</td>\n",
       "      <td>0.49788</td>\n",
       "      <td>0.48246</td>\n",
       "      <td>1.98437</td>\n",
       "      <td>0.96082</td>\n",
       "      <td>-0.31685</td>\n",
       "      <td>0.73545</td>\n",
       "      <td>-1.63340</td>\n",
       "      <td>-0.45174</td>\n",
       "      <td>-0.30172</td>\n",
       "      <td>...</td>\n",
       "      <td>CL1</td>\n",
       "      <td>CL0</td>\n",
       "      <td>CL0</td>\n",
       "      <td>CL1</td>\n",
       "      <td>CL0</td>\n",
       "      <td>CL0</td>\n",
       "      <td>CL2</td>\n",
       "      <td>CL2</td>\n",
       "      <td>CL0</td>\n",
       "      <td>CL0</td>\n",
       "    </tr>\n",
       "  </tbody>\n",
       "</table>\n",
       "<p>5 rows × 32 columns</p>\n",
       "</div>"
      ],
      "text/plain": [
       "   ID      Age   Gender  Education  Country  Ethnicity   Nscore   Escore  \\\n",
       "0   1  0.49788  0.48246   -0.05921  0.96082    0.12600  0.31287 -0.57545   \n",
       "1   2 -0.07854 -0.48246    1.98437  0.96082   -0.31685 -0.67825  1.93886   \n",
       "2   3  0.49788 -0.48246   -0.05921  0.96082   -0.31685 -0.46725  0.80523   \n",
       "3   4 -0.95197  0.48246    1.16365  0.96082   -0.31685 -0.14882 -0.80615   \n",
       "4   5  0.49788  0.48246    1.98437  0.96082   -0.31685  0.73545 -1.63340   \n",
       "\n",
       "    Oscore   Ascore ...   Ecstasy  Heroin  Ketamine Legalh  LSD Meth Shrooms  \\\n",
       "0 -0.58331 -0.91699 ...       CL0     CL0       CL0    CL0  CL0  CL0     CL0   \n",
       "1  1.43533  0.76096 ...       CL4     CL0       CL2    CL0  CL2  CL3     CL0   \n",
       "2 -0.84732 -1.62090 ...       CL0     CL0       CL0    CL0  CL0  CL0     CL1   \n",
       "3 -0.01928  0.59042 ...       CL0     CL0       CL2    CL0  CL0  CL0     CL0   \n",
       "4 -0.45174 -0.30172 ...       CL1     CL0       CL0    CL1  CL0  CL0     CL2   \n",
       "\n",
       "  Nicotine Semer  VSA  \n",
       "0      CL2   CL0  CL0  \n",
       "1      CL4   CL0  CL0  \n",
       "2      CL0   CL0  CL0  \n",
       "3      CL2   CL0  CL0  \n",
       "4      CL2   CL0  CL0  \n",
       "\n",
       "[5 rows x 32 columns]"
      ]
     },
     "metadata": {},
     "output_type": "display_data"
    },
    {
     "data": {
      "text/html": [
       "<div>\n",
       "<style scoped>\n",
       "    .dataframe tbody tr th:only-of-type {\n",
       "        vertical-align: middle;\n",
       "    }\n",
       "\n",
       "    .dataframe tbody tr th {\n",
       "        vertical-align: top;\n",
       "    }\n",
       "\n",
       "    .dataframe thead th {\n",
       "        text-align: right;\n",
       "    }\n",
       "</style>\n",
       "<table border=\"1\" class=\"dataframe\">\n",
       "  <thead>\n",
       "    <tr style=\"text-align: right;\">\n",
       "      <th></th>\n",
       "      <th>ID</th>\n",
       "      <th>Age</th>\n",
       "      <th>Gender</th>\n",
       "      <th>Education</th>\n",
       "      <th>Country</th>\n",
       "      <th>Ethnicity</th>\n",
       "      <th>Nscore</th>\n",
       "      <th>Escore</th>\n",
       "      <th>Oscore</th>\n",
       "      <th>Ascore</th>\n",
       "      <th>...</th>\n",
       "      <th>Ecstasy</th>\n",
       "      <th>Heroin</th>\n",
       "      <th>Ketamine</th>\n",
       "      <th>Legalh</th>\n",
       "      <th>LSD</th>\n",
       "      <th>Meth</th>\n",
       "      <th>Shrooms</th>\n",
       "      <th>Nicotine</th>\n",
       "      <th>Semer</th>\n",
       "      <th>VSA</th>\n",
       "    </tr>\n",
       "  </thead>\n",
       "  <tbody>\n",
       "    <tr>\n",
       "      <th>1880</th>\n",
       "      <td>1884</td>\n",
       "      <td>-0.95197</td>\n",
       "      <td>0.48246</td>\n",
       "      <td>-0.61113</td>\n",
       "      <td>-0.57009</td>\n",
       "      <td>-0.31685</td>\n",
       "      <td>-1.19430</td>\n",
       "      <td>1.74091</td>\n",
       "      <td>1.88511</td>\n",
       "      <td>0.76096</td>\n",
       "      <td>...</td>\n",
       "      <td>CL0</td>\n",
       "      <td>CL0</td>\n",
       "      <td>CL0</td>\n",
       "      <td>CL3</td>\n",
       "      <td>CL3</td>\n",
       "      <td>CL0</td>\n",
       "      <td>CL0</td>\n",
       "      <td>CL0</td>\n",
       "      <td>CL0</td>\n",
       "      <td>CL5</td>\n",
       "    </tr>\n",
       "    <tr>\n",
       "      <th>1881</th>\n",
       "      <td>1885</td>\n",
       "      <td>-0.95197</td>\n",
       "      <td>-0.48246</td>\n",
       "      <td>-0.61113</td>\n",
       "      <td>-0.57009</td>\n",
       "      <td>-0.31685</td>\n",
       "      <td>-0.24649</td>\n",
       "      <td>1.74091</td>\n",
       "      <td>0.58331</td>\n",
       "      <td>0.76096</td>\n",
       "      <td>...</td>\n",
       "      <td>CL2</td>\n",
       "      <td>CL0</td>\n",
       "      <td>CL0</td>\n",
       "      <td>CL3</td>\n",
       "      <td>CL5</td>\n",
       "      <td>CL4</td>\n",
       "      <td>CL4</td>\n",
       "      <td>CL5</td>\n",
       "      <td>CL0</td>\n",
       "      <td>CL0</td>\n",
       "    </tr>\n",
       "    <tr>\n",
       "      <th>1882</th>\n",
       "      <td>1886</td>\n",
       "      <td>-0.07854</td>\n",
       "      <td>0.48246</td>\n",
       "      <td>0.45468</td>\n",
       "      <td>-0.57009</td>\n",
       "      <td>-0.31685</td>\n",
       "      <td>1.13281</td>\n",
       "      <td>-1.37639</td>\n",
       "      <td>-1.27553</td>\n",
       "      <td>-1.77200</td>\n",
       "      <td>...</td>\n",
       "      <td>CL4</td>\n",
       "      <td>CL0</td>\n",
       "      <td>CL2</td>\n",
       "      <td>CL0</td>\n",
       "      <td>CL2</td>\n",
       "      <td>CL0</td>\n",
       "      <td>CL2</td>\n",
       "      <td>CL6</td>\n",
       "      <td>CL0</td>\n",
       "      <td>CL0</td>\n",
       "    </tr>\n",
       "    <tr>\n",
       "      <th>1883</th>\n",
       "      <td>1887</td>\n",
       "      <td>-0.95197</td>\n",
       "      <td>0.48246</td>\n",
       "      <td>-0.61113</td>\n",
       "      <td>-0.57009</td>\n",
       "      <td>-0.31685</td>\n",
       "      <td>0.91093</td>\n",
       "      <td>-1.92173</td>\n",
       "      <td>0.29338</td>\n",
       "      <td>-1.62090</td>\n",
       "      <td>...</td>\n",
       "      <td>CL3</td>\n",
       "      <td>CL0</td>\n",
       "      <td>CL0</td>\n",
       "      <td>CL3</td>\n",
       "      <td>CL3</td>\n",
       "      <td>CL0</td>\n",
       "      <td>CL3</td>\n",
       "      <td>CL4</td>\n",
       "      <td>CL0</td>\n",
       "      <td>CL0</td>\n",
       "    </tr>\n",
       "    <tr>\n",
       "      <th>1884</th>\n",
       "      <td>1888</td>\n",
       "      <td>-0.95197</td>\n",
       "      <td>-0.48246</td>\n",
       "      <td>-0.61113</td>\n",
       "      <td>0.21128</td>\n",
       "      <td>-0.31685</td>\n",
       "      <td>-0.46725</td>\n",
       "      <td>2.12700</td>\n",
       "      <td>1.65653</td>\n",
       "      <td>1.11406</td>\n",
       "      <td>...</td>\n",
       "      <td>CL3</td>\n",
       "      <td>CL0</td>\n",
       "      <td>CL0</td>\n",
       "      <td>CL3</td>\n",
       "      <td>CL3</td>\n",
       "      <td>CL0</td>\n",
       "      <td>CL3</td>\n",
       "      <td>CL6</td>\n",
       "      <td>CL0</td>\n",
       "      <td>CL2</td>\n",
       "    </tr>\n",
       "  </tbody>\n",
       "</table>\n",
       "<p>5 rows × 32 columns</p>\n",
       "</div>"
      ],
      "text/plain": [
       "        ID      Age   Gender  Education  Country  Ethnicity   Nscore   Escore  \\\n",
       "1880  1884 -0.95197  0.48246   -0.61113 -0.57009   -0.31685 -1.19430  1.74091   \n",
       "1881  1885 -0.95197 -0.48246   -0.61113 -0.57009   -0.31685 -0.24649  1.74091   \n",
       "1882  1886 -0.07854  0.48246    0.45468 -0.57009   -0.31685  1.13281 -1.37639   \n",
       "1883  1887 -0.95197  0.48246   -0.61113 -0.57009   -0.31685  0.91093 -1.92173   \n",
       "1884  1888 -0.95197 -0.48246   -0.61113  0.21128   -0.31685 -0.46725  2.12700   \n",
       "\n",
       "       Oscore   Ascore ...   Ecstasy  Heroin  Ketamine Legalh  LSD Meth  \\\n",
       "1880  1.88511  0.76096 ...       CL0     CL0       CL0    CL3  CL3  CL0   \n",
       "1881  0.58331  0.76096 ...       CL2     CL0       CL0    CL3  CL5  CL4   \n",
       "1882 -1.27553 -1.77200 ...       CL4     CL0       CL2    CL0  CL2  CL0   \n",
       "1883  0.29338 -1.62090 ...       CL3     CL0       CL0    CL3  CL3  CL0   \n",
       "1884  1.65653  1.11406 ...       CL3     CL0       CL0    CL3  CL3  CL0   \n",
       "\n",
       "     Shrooms Nicotine Semer  VSA  \n",
       "1880     CL0      CL0   CL0  CL5  \n",
       "1881     CL4      CL5   CL0  CL0  \n",
       "1882     CL2      CL6   CL0  CL0  \n",
       "1883     CL3      CL4   CL0  CL0  \n",
       "1884     CL3      CL6   CL0  CL2  \n",
       "\n",
       "[5 rows x 32 columns]"
      ]
     },
     "metadata": {},
     "output_type": "display_data"
    }
   ],
   "source": [
    "# Choose number of Observation\n",
    "n = 5\n",
    "display(data_exp.head(n=n))\n",
    "display(data_exp.tail(n=n))"
   ]
  },
  {
   "cell_type": "markdown",
   "metadata": {},
   "source": [
    "<b>ASSUMPTION 03-02-A</b> : Data has been been Normalized.<br>\n",
    "<b>ACTION 03-02-AA</b> : Denormalize for Exploration IOT get better insights.<br>"
   ]
  },
  {
   "cell_type": "markdown",
   "metadata": {},
   "source": [
    "## 03-03 : Examine Columns Names\n",
    "- Show Name of each Feature <br>"
   ]
  },
  {
   "cell_type": "code",
   "execution_count": 8,
   "metadata": {
    "scrolled": true
   },
   "outputs": [
    {
     "data": {
      "text/plain": [
       "Index(['ID', 'Age', 'Gender', 'Education', 'Country', 'Ethnicity', 'Nscore',\n",
       "       'Escore', 'Oscore', 'Ascore', 'Cscore', 'Impulsive', 'SS', 'Alcohol',\n",
       "       'Amphet', 'Amyl', 'Benzos', 'Caff', 'Cannabis', 'Choc', 'Coke', 'Crack',\n",
       "       'Ecstasy', 'Heroin', 'Ketamine', 'Legalh', 'LSD', 'Meth', 'Shrooms',\n",
       "       'Nicotine', 'Semer', 'VSA'],\n",
       "      dtype='object')"
      ]
     },
     "execution_count": 8,
     "metadata": {},
     "output_type": "execute_result"
    }
   ],
   "source": [
    "data_columns_exp = data_exp.columns\n",
    "data_columns_exp"
   ]
  },
  {
   "cell_type": "markdown",
   "metadata": {},
   "source": [
    "<b>ASSUMPTION 03-03-A</b> : Data can be Seperated in:<br>\n",
    "- <b> Identifier</b> : 'ID' <br>\n",
    "- <b>Personal Information</b> :  'Age', 'Gender', 'Education', 'Country', 'Ethnicity', 'Nscore', 'Escore', 'Oscore', 'Ascore', 'Cscore', 'Impulsive', 'SS'. <br>\n",
    "- <b>Drug Use/ Findings</b> :  'Alcohol', 'Amphet', 'Amyl', 'Benzos', 'Caff', 'Cannabis', 'Choc', 'Coke', 'Crack', 'Ecstasy', 'Heroin', 'Ketamine', 'Legalh', 'LSD', 'Meth', 'Shrooms', 'Nicotine', 'Semer', 'VSA'.<br>\n",
    "\n",
    "<b>ACTION 03-03-AA</b> : Note in Data Dictionary<br>\n",
    "<b>TASKS 03-03-B</b>: Identify:\n",
    "- 'Nscore', 'Escore', 'Oscore', 'Ascore', 'Cscore', 'Impulsive', 'SS'<br>\n",
    "- 'Amyl', 'Benzos', 'Caff', 'Choc', 'Legalh', 'Semer', 'VSA'<br>"
   ]
  },
  {
   "cell_type": "markdown",
   "metadata": {},
   "source": [
    "## 03-04 : Examine Datatypes\n",
    "- Show Type of each Feature <br>\n",
    "- Explore the Number of Unique Features<br>"
   ]
  },
  {
   "cell_type": "code",
   "execution_count": 9,
   "metadata": {
    "scrolled": true
   },
   "outputs": [
    {
     "name": "stdout",
     "output_type": "stream",
     "text": [
      "<class 'pandas.core.frame.DataFrame'>\n",
      "RangeIndex: 1885 entries, 0 to 1884\n",
      "Data columns (total 32 columns):\n",
      "ID           1885 non-null int64\n",
      "Age          1885 non-null float64\n",
      "Gender       1885 non-null float64\n",
      "Education    1885 non-null float64\n",
      "Country      1885 non-null float64\n",
      "Ethnicity    1885 non-null float64\n",
      "Nscore       1885 non-null float64\n",
      "Escore       1885 non-null float64\n",
      "Oscore       1885 non-null float64\n",
      "Ascore       1885 non-null float64\n",
      "Cscore       1885 non-null float64\n",
      "Impulsive    1885 non-null float64\n",
      "SS           1885 non-null float64\n",
      "Alcohol      1885 non-null object\n",
      "Amphet       1885 non-null object\n",
      "Amyl         1885 non-null object\n",
      "Benzos       1885 non-null object\n",
      "Caff         1885 non-null object\n",
      "Cannabis     1885 non-null object\n",
      "Choc         1885 non-null object\n",
      "Coke         1885 non-null object\n",
      "Crack        1885 non-null object\n",
      "Ecstasy      1885 non-null object\n",
      "Heroin       1885 non-null object\n",
      "Ketamine     1885 non-null object\n",
      "Legalh       1885 non-null object\n",
      "LSD          1885 non-null object\n",
      "Meth         1885 non-null object\n",
      "Shrooms      1885 non-null object\n",
      "Nicotine     1885 non-null object\n",
      "Semer        1885 non-null object\n",
      "VSA          1885 non-null object\n",
      "dtypes: float64(12), int64(1), object(19)\n",
      "memory usage: 471.3+ KB\n"
     ]
    }
   ],
   "source": [
    "data_exp.info()"
   ]
  },
  {
   "cell_type": "code",
   "execution_count": 10,
   "metadata": {},
   "outputs": [
    {
     "data": {
      "text/plain": [
       "Index(['ID', 'Age', 'Gender', 'Education', 'Country', 'Ethnicity', 'Nscore',\n",
       "       'Escore', 'Oscore', 'Ascore', 'Cscore', 'Impulsive', 'SS', 'Alcohol',\n",
       "       'Amphet', 'Amyl', 'Benzos', 'Caff', 'Cannabis', 'Choc', 'Coke', 'Crack',\n",
       "       'Ecstasy', 'Heroin', 'Ketamine', 'Legalh', 'LSD', 'Meth', 'Shrooms',\n",
       "       'Nicotine', 'Semer', 'VSA'],\n",
       "      dtype='object')"
      ]
     },
     "execution_count": 10,
     "metadata": {},
     "output_type": "execute_result"
    }
   ],
   "source": [
    "data_exp.columns"
   ]
  },
  {
   "cell_type": "code",
   "execution_count": 11,
   "metadata": {
    "scrolled": true
   },
   "outputs": [
    {
     "data": {
      "text/html": [
       "<div>\n",
       "<style scoped>\n",
       "    .dataframe tbody tr th:only-of-type {\n",
       "        vertical-align: middle;\n",
       "    }\n",
       "\n",
       "    .dataframe tbody tr th {\n",
       "        vertical-align: top;\n",
       "    }\n",
       "\n",
       "    .dataframe thead th {\n",
       "        text-align: right;\n",
       "    }\n",
       "</style>\n",
       "<table border=\"1\" class=\"dataframe\">\n",
       "  <thead>\n",
       "    <tr style=\"text-align: right;\">\n",
       "      <th></th>\n",
       "      <th>Feature</th>\n",
       "      <th>Number of Unique Values</th>\n",
       "      <th>Unique Values</th>\n",
       "    </tr>\n",
       "  </thead>\n",
       "  <tbody>\n",
       "    <tr>\n",
       "      <th>0</th>\n",
       "      <td>ID</td>\n",
       "      <td>1885</td>\n",
       "      <td>[1, 2, 3, 4, 5, 6, 7, 8, 9, 10, 11, 12, 13, 14...</td>\n",
       "    </tr>\n",
       "    <tr>\n",
       "      <th>1</th>\n",
       "      <td>Age</td>\n",
       "      <td>6</td>\n",
       "      <td>[0.49788000000000004, -0.07854, -0.95197000000...</td>\n",
       "    </tr>\n",
       "    <tr>\n",
       "      <th>2</th>\n",
       "      <td>Gender</td>\n",
       "      <td>2</td>\n",
       "      <td>[0.48246000000000006, -0.48246000000000006]</td>\n",
       "    </tr>\n",
       "    <tr>\n",
       "      <th>3</th>\n",
       "      <td>Education</td>\n",
       "      <td>9</td>\n",
       "      <td>[-0.059210000000000006, 1.98437, 1.16365, -1.2...</td>\n",
       "    </tr>\n",
       "    <tr>\n",
       "      <th>4</th>\n",
       "      <td>Country</td>\n",
       "      <td>7</td>\n",
       "      <td>[0.9608200000000001, 0.24923, -0.57009, -0.285...</td>\n",
       "    </tr>\n",
       "    <tr>\n",
       "      <th>5</th>\n",
       "      <td>Ethnicity</td>\n",
       "      <td>7</td>\n",
       "      <td>[0.126, -0.31685, 0.1144, -0.22166, -0.50212, ...</td>\n",
       "    </tr>\n",
       "    <tr>\n",
       "      <th>6</th>\n",
       "      <td>Nscore</td>\n",
       "      <td>49</td>\n",
       "      <td>[0.31287, -0.67825, -0.46725, -0.14882, 0.7354...</td>\n",
       "    </tr>\n",
       "    <tr>\n",
       "      <th>7</th>\n",
       "      <td>Escore</td>\n",
       "      <td>42</td>\n",
       "      <td>[-0.57545, 1.9388599999999998, 0.80523, -0.806...</td>\n",
       "    </tr>\n",
       "    <tr>\n",
       "      <th>8</th>\n",
       "      <td>Oscore</td>\n",
       "      <td>35</td>\n",
       "      <td>[-0.58331, 1.43533, -0.8473200000000001, -0.01...</td>\n",
       "    </tr>\n",
       "    <tr>\n",
       "      <th>9</th>\n",
       "      <td>Ascore</td>\n",
       "      <td>41</td>\n",
       "      <td>[-0.91699, 0.7609600000000001, -1.6209, 0.5904...</td>\n",
       "    </tr>\n",
       "    <tr>\n",
       "      <th>10</th>\n",
       "      <td>Cscore</td>\n",
       "      <td>41</td>\n",
       "      <td>[-0.00665, -0.14277, -1.0145, 0.58488999999999...</td>\n",
       "    </tr>\n",
       "    <tr>\n",
       "      <th>11</th>\n",
       "      <td>Impulsive</td>\n",
       "      <td>10</td>\n",
       "      <td>[-0.21711999999999998, -0.71126, -1.37983, 0.1...</td>\n",
       "    </tr>\n",
       "    <tr>\n",
       "      <th>12</th>\n",
       "      <td>SS</td>\n",
       "      <td>11</td>\n",
       "      <td>[-1.18084, -0.21575, 0.40148, -1.5485799999999...</td>\n",
       "    </tr>\n",
       "    <tr>\n",
       "      <th>13</th>\n",
       "      <td>Alcohol</td>\n",
       "      <td>7</td>\n",
       "      <td>[CL5, CL6, CL4, CL2, CL1, CL0, CL3]</td>\n",
       "    </tr>\n",
       "    <tr>\n",
       "      <th>14</th>\n",
       "      <td>Amphet</td>\n",
       "      <td>7</td>\n",
       "      <td>[CL2, CL0, CL1, CL3, CL5, CL4, CL6]</td>\n",
       "    </tr>\n",
       "    <tr>\n",
       "      <th>15</th>\n",
       "      <td>Amyl</td>\n",
       "      <td>7</td>\n",
       "      <td>[CL0, CL2, CL1, CL3, CL5, CL4, CL6]</td>\n",
       "    </tr>\n",
       "    <tr>\n",
       "      <th>16</th>\n",
       "      <td>Benzos</td>\n",
       "      <td>7</td>\n",
       "      <td>[CL2, CL0, CL3, CL1, CL4, CL5, CL6]</td>\n",
       "    </tr>\n",
       "    <tr>\n",
       "      <th>17</th>\n",
       "      <td>Caff</td>\n",
       "      <td>7</td>\n",
       "      <td>[CL6, CL5, CL4, CL3, CL0, CL1, CL2]</td>\n",
       "    </tr>\n",
       "    <tr>\n",
       "      <th>18</th>\n",
       "      <td>Cannabis</td>\n",
       "      <td>7</td>\n",
       "      <td>[CL0, CL4, CL3, CL2, CL1, CL6, CL5]</td>\n",
       "    </tr>\n",
       "    <tr>\n",
       "      <th>19</th>\n",
       "      <td>Choc</td>\n",
       "      <td>7</td>\n",
       "      <td>[CL5, CL6, CL4, CL0, CL3, CL2, CL1]</td>\n",
       "    </tr>\n",
       "    <tr>\n",
       "      <th>20</th>\n",
       "      <td>Coke</td>\n",
       "      <td>7</td>\n",
       "      <td>[CL0, CL3, CL2, CL1, CL6, CL5, CL4]</td>\n",
       "    </tr>\n",
       "    <tr>\n",
       "      <th>21</th>\n",
       "      <td>Crack</td>\n",
       "      <td>7</td>\n",
       "      <td>[CL0, CL1, CL2, CL3, CL5, CL4, CL6]</td>\n",
       "    </tr>\n",
       "    <tr>\n",
       "      <th>22</th>\n",
       "      <td>Ecstasy</td>\n",
       "      <td>7</td>\n",
       "      <td>[CL0, CL4, CL1, CL3, CL2, CL6, CL5]</td>\n",
       "    </tr>\n",
       "    <tr>\n",
       "      <th>23</th>\n",
       "      <td>Heroin</td>\n",
       "      <td>7</td>\n",
       "      <td>[CL0, CL1, CL2, CL3, CL5, CL6, CL4]</td>\n",
       "    </tr>\n",
       "    <tr>\n",
       "      <th>24</th>\n",
       "      <td>Ketamine</td>\n",
       "      <td>7</td>\n",
       "      <td>[CL0, CL2, CL3, CL1, CL5, CL4, CL6]</td>\n",
       "    </tr>\n",
       "    <tr>\n",
       "      <th>25</th>\n",
       "      <td>Legalh</td>\n",
       "      <td>7</td>\n",
       "      <td>[CL0, CL1, CL2, CL3, CL5, CL4, CL6]</td>\n",
       "    </tr>\n",
       "    <tr>\n",
       "      <th>26</th>\n",
       "      <td>LSD</td>\n",
       "      <td>7</td>\n",
       "      <td>[CL0, CL2, CL1, CL3, CL4, CL5, CL6]</td>\n",
       "    </tr>\n",
       "    <tr>\n",
       "      <th>27</th>\n",
       "      <td>Meth</td>\n",
       "      <td>7</td>\n",
       "      <td>[CL0, CL3, CL1, CL6, CL4, CL2, CL5]</td>\n",
       "    </tr>\n",
       "    <tr>\n",
       "      <th>28</th>\n",
       "      <td>Shrooms</td>\n",
       "      <td>7</td>\n",
       "      <td>[CL0, CL1, CL2, CL3, CL4, CL5, CL6]</td>\n",
       "    </tr>\n",
       "    <tr>\n",
       "      <th>29</th>\n",
       "      <td>Nicotine</td>\n",
       "      <td>7</td>\n",
       "      <td>[CL2, CL4, CL0, CL6, CL1, CL3, CL5]</td>\n",
       "    </tr>\n",
       "    <tr>\n",
       "      <th>30</th>\n",
       "      <td>Semer</td>\n",
       "      <td>5</td>\n",
       "      <td>[CL0, CL2, CL3, CL4, CL1]</td>\n",
       "    </tr>\n",
       "    <tr>\n",
       "      <th>31</th>\n",
       "      <td>VSA</td>\n",
       "      <td>7</td>\n",
       "      <td>[CL0, CL1, CL3, CL6, CL2, CL5, CL4]</td>\n",
       "    </tr>\n",
       "  </tbody>\n",
       "</table>\n",
       "</div>"
      ],
      "text/plain": [
       "      Feature  Number of Unique Values  \\\n",
       "0          ID                     1885   \n",
       "1         Age                        6   \n",
       "2      Gender                        2   \n",
       "3   Education                        9   \n",
       "4     Country                        7   \n",
       "5   Ethnicity                        7   \n",
       "6      Nscore                       49   \n",
       "7      Escore                       42   \n",
       "8      Oscore                       35   \n",
       "9      Ascore                       41   \n",
       "10     Cscore                       41   \n",
       "11  Impulsive                       10   \n",
       "12         SS                       11   \n",
       "13    Alcohol                        7   \n",
       "14     Amphet                        7   \n",
       "15       Amyl                        7   \n",
       "16     Benzos                        7   \n",
       "17       Caff                        7   \n",
       "18   Cannabis                        7   \n",
       "19       Choc                        7   \n",
       "20       Coke                        7   \n",
       "21      Crack                        7   \n",
       "22    Ecstasy                        7   \n",
       "23     Heroin                        7   \n",
       "24   Ketamine                        7   \n",
       "25     Legalh                        7   \n",
       "26        LSD                        7   \n",
       "27       Meth                        7   \n",
       "28    Shrooms                        7   \n",
       "29   Nicotine                        7   \n",
       "30      Semer                        5   \n",
       "31        VSA                        7   \n",
       "\n",
       "                                        Unique Values  \n",
       "0   [1, 2, 3, 4, 5, 6, 7, 8, 9, 10, 11, 12, 13, 14...  \n",
       "1   [0.49788000000000004, -0.07854, -0.95197000000...  \n",
       "2         [0.48246000000000006, -0.48246000000000006]  \n",
       "3   [-0.059210000000000006, 1.98437, 1.16365, -1.2...  \n",
       "4   [0.9608200000000001, 0.24923, -0.57009, -0.285...  \n",
       "5   [0.126, -0.31685, 0.1144, -0.22166, -0.50212, ...  \n",
       "6   [0.31287, -0.67825, -0.46725, -0.14882, 0.7354...  \n",
       "7   [-0.57545, 1.9388599999999998, 0.80523, -0.806...  \n",
       "8   [-0.58331, 1.43533, -0.8473200000000001, -0.01...  \n",
       "9   [-0.91699, 0.7609600000000001, -1.6209, 0.5904...  \n",
       "10  [-0.00665, -0.14277, -1.0145, 0.58488999999999...  \n",
       "11  [-0.21711999999999998, -0.71126, -1.37983, 0.1...  \n",
       "12  [-1.18084, -0.21575, 0.40148, -1.5485799999999...  \n",
       "13                [CL5, CL6, CL4, CL2, CL1, CL0, CL3]  \n",
       "14                [CL2, CL0, CL1, CL3, CL5, CL4, CL6]  \n",
       "15                [CL0, CL2, CL1, CL3, CL5, CL4, CL6]  \n",
       "16                [CL2, CL0, CL3, CL1, CL4, CL5, CL6]  \n",
       "17                [CL6, CL5, CL4, CL3, CL0, CL1, CL2]  \n",
       "18                [CL0, CL4, CL3, CL2, CL1, CL6, CL5]  \n",
       "19                [CL5, CL6, CL4, CL0, CL3, CL2, CL1]  \n",
       "20                [CL0, CL3, CL2, CL1, CL6, CL5, CL4]  \n",
       "21                [CL0, CL1, CL2, CL3, CL5, CL4, CL6]  \n",
       "22                [CL0, CL4, CL1, CL3, CL2, CL6, CL5]  \n",
       "23                [CL0, CL1, CL2, CL3, CL5, CL6, CL4]  \n",
       "24                [CL0, CL2, CL3, CL1, CL5, CL4, CL6]  \n",
       "25                [CL0, CL1, CL2, CL3, CL5, CL4, CL6]  \n",
       "26                [CL0, CL2, CL1, CL3, CL4, CL5, CL6]  \n",
       "27                [CL0, CL3, CL1, CL6, CL4, CL2, CL5]  \n",
       "28                [CL0, CL1, CL2, CL3, CL4, CL5, CL6]  \n",
       "29                [CL2, CL4, CL0, CL6, CL1, CL3, CL5]  \n",
       "30                          [CL0, CL2, CL3, CL4, CL1]  \n",
       "31                [CL0, CL1, CL3, CL6, CL2, CL5, CL4]  "
      ]
     },
     "execution_count": 11,
     "metadata": {},
     "output_type": "execute_result"
    }
   ],
   "source": [
    "## Inspect Unique Values of Features\n",
    "# Set up Vaults for Result\n",
    "vault_unique_exp = []\n",
    "# Cycle trough Features\n",
    "for idx in data_columns_exp:\n",
    "    # Extract Features Unique Features\n",
    "    result = data_exp[idx].unique()\n",
    "    # Save Relevant Result in Vault\n",
    "    vault_unique_exp.append([idx,len(result),result])\n",
    "# Set up and show DataFrame\n",
    "vault_unique_exp = pd.DataFrame(vault_unique_exp)\n",
    "vault_unique_exp.columns = [\"Feature\",\"Number of Unique Values\",\"Unique Values\"]\n",
    "vault_unique_exp"
   ]
  },
  {
   "cell_type": "markdown",
   "metadata": {},
   "source": [
    "<b>ASSUMPTION 03-04-A</b> : All Featuresm, except ID are not Values, but categorical (f.e. \"Age\" is not the years since birth, but Agegroup.<br>\n",
    "<b>ASSUMPTION 03-04-B</b> : There is a Classification, CL0 - CL6, that has the same meaning across all drug-features.<br>\n",
    "<b>TASKS 03-04-C</b>: Research the Meaning behind each Value in each Feature.<br>"
   ]
  },
  {
   "cell_type": "markdown",
   "metadata": {},
   "source": [
    "#### <b>TASKS 03-04-C</b>\n",
    "- This yielded great insight into the dataset.\n",
    "- The Data Dictionary could be updated, and each Feature now has a dictionary that \"translates\" the value."
   ]
  },
  {
   "cell_type": "markdown",
   "metadata": {},
   "source": [
    "## 03-05 : Visual Exploration\n",
    "- Choose Features to visually explore<br>\n",
    "- Visualize<br>\n",
    "- Draw Conclusions<br>"
   ]
  },
  {
   "cell_type": "code",
   "execution_count": 12,
   "metadata": {},
   "outputs": [],
   "source": [
    "dict_age = {\n",
    "    -0.95197 : '18-24',\n",
    "    -0.07854 : '25-34',\n",
    "    0.49788  : '35-44',\n",
    "    1.09449  : '45-54',\n",
    "    1.82213  : '55-64',\n",
    "    2.59171  : '65+'}\n",
    "dict_gender = {\n",
    "    0.48246  : 'Female',\n",
    "    -0.48246 : 'Male'}\n",
    "dict_education = {\n",
    "    -2.43591 : 'Left school before 16 years',\n",
    "    -1.73790 : 'Left school at 16 years',\n",
    "    -1.43719 : 'Left school at 17 years',\n",
    "    -1.22751 : 'Left school at 18 years',\n",
    "    -0.61113 : 'Some college or university, no certificate or degree',\n",
    "    -0.05921 : 'Professional certificate/ diploma',\n",
    "    0.45468  : 'University degree',\n",
    "    1.16365  : 'Masters degree',\n",
    "    1.98437  : 'Doctorate degree'}\n",
    "dict_country = {\n",
    "    -0.09765 : 'Australia',\n",
    "    0.24923  : 'Canada',\n",
    "    -0.46841 : 'New Zealand',\n",
    "    -0.28519 : 'Other',\n",
    "    0.21128  : 'Republic of Ireland',\n",
    "    0.96082  : 'UK',\n",
    "    -0.57009 : 'USA'}\n",
    "dict_ethnicity = {\n",
    "    -0.50212 : 'Asian',\n",
    "    -1.10702 : 'Black',\n",
    "    1.90725  : 'Mixed-Black/Asian',\n",
    "    0.12600  : 'Mixed-White/Asian',\n",
    "    -0.22166 : 'Mixed-White/Black',\n",
    "    0.11440  : 'Other',\n",
    "    -0.31685 : 'White'}"
   ]
  },
  {
   "cell_type": "code",
   "execution_count": 14,
   "metadata": {},
   "outputs": [],
   "source": [
    "books = list([('Age', dict_age),\n",
    "             ('Gender', dict_gender),\n",
    "             ('Education', dict_education), \n",
    "             ('Country', dict_country), \n",
    "             ('Ethnicity', dict_ethnicity)])"
   ]
  },
  {
   "cell_type": "markdown",
   "metadata": {},
   "source": [
    "FINISH DICTIONARIES / FINISH BRIDGE"
   ]
  },
  {
   "cell_type": "code",
   "execution_count": 22,
   "metadata": {},
   "outputs": [],
   "source": [
    "# Choose Features to visually explore\n",
    "look_at_me = ['Age','Gender','Education','Country','Ethnicity']"
   ]
  },
  {
   "cell_type": "code",
   "execution_count": 23,
   "metadata": {},
   "outputs": [
    {
     "data": {
      "image/png": "[encoded data removed]",
      "text/plain": [
       "<Figure size 432x288 with 1 Axes>"
      ]
     },
     "metadata": {
      "needs_background": "light"
     },
     "output_type": "display_data"
    },
    {
     "data": {
      "image/png": "[encoded data removed]",
      "text/plain": [
       "<Figure size 432x288 with 1 Axes>"
      ]
     },
     "metadata": {
      "needs_background": "light"
     },
     "output_type": "display_data"
    },
    {
     "data": {
      "image/png": "[encoded data removed]",
      "text/plain": [
       "<Figure size 432x288 with 1 Axes>"
      ]
     },
     "metadata": {
      "needs_background": "light"
     },
     "output_type": "display_data"
    },
    {
     "data": {
      "image/png": "[encoded data removed]",
      "text/plain": [
       "<Figure size 432x288 with 1 Axes>"
      ]
     },
     "metadata": {
      "needs_background": "light"
     },
     "output_type": "display_data"
    },
    {
     "data": {
      "image/png": "[encoded data removed]",
      "text/plain": [
       "<Figure size 432x288 with 1 Axes>"
      ]
     },
     "metadata": {
      "needs_background": "light"
     },
     "output_type": "display_data"
    }
   ],
   "source": [
    "# Visualize chosen Features\n",
    "for idx in look_at_me:\n",
    "    temp_table  = data_exp[idx].value_counts()\n",
    "    temp_length = len(temp_table)\n",
    "    plt.bar(x = range(temp_length),height = temp_table)\n",
    "    plt.title(idx)\n",
    "    plt.ylabel(\"Count\")\n",
    "    #plt.xticks(range(temp_length), ?????)\n",
    "    plt.show()"
   ]
  },
  {
   "cell_type": "code",
   "execution_count": 115,
   "metadata": {},
   "outputs": [],
   "source": [
    "drugs = ['Alcohol', 'Amphet', 'Amyl', 'Benzos',\n",
    "         'Caff', 'Cannabis', 'Choc', 'Coke',\n",
    "         'Crack', 'Ecstasy', 'Heroin', 'Ketamine',\n",
    "         'Legalh', 'LSD', 'Meth', 'Shrooms', 'Nicotine',\n",
    "         'Semer', 'VSA']\n",
    "drugs_fictional = ['Semer']\n",
    "drugs_legal = ['Alcohol', 'Caff', 'Choc', 'Legalh', 'Nicotine', 'VSA']\n",
    "drugs_illigal = ['Coke', 'Crack', 'Ecstasy', 'Heroin', 'LSD', 'Meth', 'Shrooms']\n",
    "\n",
    "# Left over to ['Amphet', 'Amyl', 'Benzos', 'Cannabis','Ketamine'"
   ]
  },
  {
   "cell_type": "code",
   "execution_count": 47,
   "metadata": {
    "scrolled": false
   },
   "outputs": [
    {
     "data": {
      "image/png": "[encoded data removed]",
      "text/plain": [
       "<Figure size 432x288 with 1 Axes>"
      ]
     },
     "metadata": {
      "needs_background": "light"
     },
     "output_type": "display_data"
    },
    {
     "data": {
      "image/png": "[encoded data removed]",
      "text/plain": [
       "<Figure size 432x288 with 1 Axes>"
      ]
     },
     "metadata": {
      "needs_background": "light"
     },
     "output_type": "display_data"
    },
    {
     "data": {
      "image/png": "[encoded data removed]",
      "text/plain": [
       "<Figure size 432x288 with 1 Axes>"
      ]
     },
     "metadata": {
      "needs_background": "light"
     },
     "output_type": "display_data"
    },
    {
     "data": {
      "image/png": "[encoded data removed]",
      "text/plain": [
       "<Figure size 432x288 with 1 Axes>"
      ]
     },
     "metadata": {
      "needs_background": "light"
     },
     "output_type": "display_data"
    },
    {
     "data": {
      "image/png": "[encoded data removed]",
      "text/plain": [
       "<Figure size 432x288 with 1 Axes>"
      ]
     },
     "metadata": {
      "needs_background": "light"
     },
     "output_type": "display_data"
    },
    {
     "data": {
      "image/png": "[encoded data removed]",
      "text/plain": [
       "<Figure size 432x288 with 1 Axes>"
      ]
     },
     "metadata": {
      "needs_background": "light"
     },
     "output_type": "display_data"
    },
    {
     "data": {
      "image/png": "[encoded data removed]",
      "text/plain": [
       "<Figure size 432x288 with 1 Axes>"
      ]
     },
     "metadata": {
      "needs_background": "light"
     },
     "output_type": "display_data"
    },
    {
     "data": {
      "image/png": "[encoded data removed]",
      "text/plain": [
       "<Figure size 432x288 with 1 Axes>"
      ]
     },
     "metadata": {
      "needs_background": "light"
     },
     "output_type": "display_data"
    },
    {
     "data": {
      "image/png": "[encoded data removed]",
      "text/plain": [
       "<Figure size 432x288 with 1 Axes>"
      ]
     },
     "metadata": {
      "needs_background": "light"
     },
     "output_type": "display_data"
    },
    {
     "data": {
      "image/png": "[encoded data removed]",
      "text/plain": [
       "<Figure size 432x288 with 1 Axes>"
      ]
     },
     "metadata": {
      "needs_background": "light"
     },
     "output_type": "display_data"
    },
    {
     "data": {
      "image/png": "[encoded data removed]",
      "text/plain": [
       "<Figure size 432x288 with 1 Axes>"
      ]
     },
     "metadata": {
      "needs_background": "light"
     },
     "output_type": "display_data"
    },
    {
     "data": {
      "image/png": "[encoded data removed]",
      "text/plain": [
       "<Figure size 432x288 with 1 Axes>"
      ]
     },
     "metadata": {
      "needs_background": "light"
     },
     "output_type": "display_data"
    },
    {
     "data": {
      "image/png": "[encoded data removed]",
      "text/plain": [
       "<Figure size 432x288 with 1 Axes>"
      ]
     },
     "metadata": {
      "needs_background": "light"
     },
     "output_type": "display_data"
    },
    {
     "data": {
      "image/png": "[encoded data removed]",
      "text/plain": [
       "<Figure size 432x288 with 1 Axes>"
      ]
     },
     "metadata": {
      "needs_background": "light"
     },
     "output_type": "display_data"
    },
    {
     "data": {
      "image/png": "[encoded data removed]",
      "text/plain": [
       "<Figure size 432x288 with 1 Axes>"
      ]
     },
     "metadata": {
      "needs_background": "light"
     },
     "output_type": "display_data"
    },
    {
     "data": {
      "image/png": "[encoded data removed]",
      "text/plain": [
       "<Figure size 432x288 with 1 Axes>"
      ]
     },
     "metadata": {
      "needs_background": "light"
     },
     "output_type": "display_data"
    },
    {
     "data": {
      "image/png": "[encoded data removed]",
      "text/plain": [
       "<Figure size 432x288 with 1 Axes>"
      ]
     },
     "metadata": {
      "needs_background": "light"
     },
     "output_type": "display_data"
    },
    {
     "data": {
      "image/png": "[encoded data removed]",
      "text/plain": [
       "<Figure size 432x288 with 1 Axes>"
      ]
     },
     "metadata": {
      "needs_background": "light"
     },
     "output_type": "display_data"
    },
    {
     "data": {
      "image/png": "[encoded data removed]",
      "text/plain": [
       "<Figure size 432x288 with 1 Axes>"
      ]
     },
     "metadata": {
      "needs_background": "light"
     },
     "output_type": "display_data"
    }
   ],
   "source": [
    "for idx in drugs:\n",
    "    temp_table  = data_exp[idx].value_counts()\n",
    "    temp_length = len(temp_table)\n",
    "    plt.bar(x = range(temp_length),height = temp_table)\n",
    "    plt.title(idx)\n",
    "    plt.ylabel(\"Count\")\n",
    "    plt.xticks(range(temp_length), temp_table.index)\n",
    "    plt.show()"
   ]
  },
  {
   "cell_type": "code",
   "execution_count": 132,
   "metadata": {},
   "outputs": [],
   "source": [
    "personality = ['Nscore', 'Escore', 'Oscore', 'Ascore',\n",
    "               'Cscore', 'Impulsive', 'SS']"
   ]
  },
  {
   "cell_type": "markdown",
   "metadata": {},
   "source": [
    "## 04 - Data Cleaning\n",
    "|Input|Process|Output|\n",
    "|-|-|-|\n",
    "|Raw Data|Data Type Analysis|Analyzable Data|\n",
    "|Data Dictionary|Missing Data Analysis|Assumption/Action Log|\n",
    "||Correct Multicoreallity||\n",
    "||Analyze Outliers||\n",
    "||Analyze Duplicates||\n",
    "||Apply Horizontal Changes||\n",
    "||Apply Vertical Changes||"
   ]
  },
  {
   "cell_type": "code",
   "execution_count": 143,
   "metadata": {},
   "outputs": [
    {
     "data": {
      "text/plain": [
       "ID           0\n",
       "Age          0\n",
       "Gender       0\n",
       "Education    0\n",
       "Country      0\n",
       "Ethnicity    0\n",
       "Nscore       0\n",
       "Escore       0\n",
       "Oscore       0\n",
       "Ascore       0\n",
       "Cscore       0\n",
       "Impulsive    0\n",
       "SS           0\n",
       "Alcohol      0\n",
       "Amphet       0\n",
       "Amyl         0\n",
       "Benzos       0\n",
       "Caff         0\n",
       "Cannabis     0\n",
       "Choc         0\n",
       "Coke         0\n",
       "Crack        0\n",
       "Ecstasy      0\n",
       "Heroin       0\n",
       "Ketamine     0\n",
       "Legalh       0\n",
       "LSD          0\n",
       "Meth         0\n",
       "Shrooms      0\n",
       "Nicotine     0\n",
       "Semer        0\n",
       "VSA          0\n",
       "dtype: int64"
      ]
     },
     "execution_count": 143,
     "metadata": {},
     "output_type": "execute_result"
    }
   ],
   "source": [
    "data_exp.isna().sum()"
   ]
  },
  {
   "cell_type": "markdown",
   "metadata": {},
   "source": [
    "## ToDo before Release\n",
    "- Sort CLX Stuff<br>\n",
    "- How to process CLX Values.<br>\n",
    "- How to combine Consumptions Features to Target Features.<br>\n",
    " - Clean / Legal / Illegal? <br>\n",
    " - Clean / Legal / Classification (https://en.wikipedia.org/wiki/Drug_class)<br> \n",
    "- Is Unique Entropy Intresting?<br>\n",
    "- Make Feature Dictionaries \"nice\"<br>\n",
    "- Make Import of Feature Dictionaries more elegant<br>"
   ]
  },
  {
   "cell_type": "markdown",
   "metadata": {},
   "source": [
    "## Future Work\n",
    "- Import directly from Excel File<br>"
   ]
  }
 ],
 "metadata": {
  "kernelspec": {
   "display_name": "Python [conda env:nf] *",
   "language": "python",
   "name": "conda-env-nf-py"
  },
  "language_info": {
   "codemirror_mode": {
    "name": "ipython",
    "version": 3
   },
   "file_extension": ".py",
   "mimetype": "text/x-python",
   "name": "python",
   "nbconvert_exporter": "python",
   "pygments_lexer": "ipython3",
   "version": "3.6.6"
  }
 },
 "nbformat": 4,
 "nbformat_minor": 2
}
