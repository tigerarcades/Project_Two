{
 "cells": [
  {
   "cell_type": "markdown",
   "metadata": {},
   "source": [
    "<b>ASSUMPTION 03-02-A</b> : Data has been been Normalized.<br>\n",
    "<b>ACTION 03-02-AA</b> : Denormalize for Exploration IOT get better insights.<br>"
   ]
  },
  {
   "cell_type": "markdown",
   "metadata": {},
   "source": [
    "<b>ACTION 03-04-AA</b> : Note in Data Dictionary<br>\n",
    "<b>TASKS 03-04-B</b>: Identify:\n",
    "- 'Nscore', 'Escore', 'Oscore', 'Ascore', 'Cscore', 'Impulsive', 'SS'<br>\n",
    "- 'Amyl', 'Benzos', 'Caff', 'Choc', 'Legalh', 'Semer', 'VSA'<br>"
   ]
  },
  {
   "cell_type": "markdown",
   "metadata": {},
   "source": [
    "<b>ASSUMPTION 03-04-A</b> : All Featuresm, except ID are not Values, but categorical (f.e. \"Age\" is not the years since birth, but Agegroup.<br>\n",
    "<b>ASSUMPTION 03-04-B</b> : There is a Classification, CL0 - CL6, that has the same meaning across all drug-features.<br>\n",
    "<b>TASKS 03-04-C</b>: Research the Meaning behind each Value in each Feature, except ID.<br>"
   ]
  },
  {
   "cell_type": "code",
   "execution_count": null,
   "metadata": {},
   "outputs": [],
   "source": []
  }
 ],
 "metadata": {
  "kernelspec": {
   "display_name": "Python [conda env:nf] *",
   "language": "python",
   "name": "conda-env-nf-py"
  },
  "language_info": {
   "codemirror_mode": {
    "name": "ipython",
    "version": 3
   },
   "file_extension": ".py",
   "mimetype": "text/x-python",
   "name": "python",
   "nbconvert_exporter": "python",
   "pygments_lexer": "ipython3",
   "version": "3.6.6"
  }
 },
 "nbformat": 4,
 "nbformat_minor": 2
}
