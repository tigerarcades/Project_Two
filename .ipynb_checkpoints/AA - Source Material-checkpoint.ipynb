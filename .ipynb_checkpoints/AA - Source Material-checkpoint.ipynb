{
 "cells": [
  {
   "cell_type": "markdown",
   "metadata": {},
   "source": [
    "# Source Overview"
   ]
  },
  {
   "cell_type": "markdown",
   "metadata": {},
   "source": [
    "## 01 - Project Description\n",
    "<b>Source</b>: Jacob Eli Thomas, HeadCoach NeueFische<br>\n",
    "<b>Time</b>: 19.11.19 10:04 ALPHA<br>"
   ]
  },
  {
   "cell_type": "markdown",
   "metadata": {},
   "source": [
    "The abuse of tobacco, alcohol and illicit drugs is costly to our society. According to the National Institute on Drug Abuse, more than 740 billion is lost annually due to lost work productivity, crime and healthcare.\n",
    "People with certain personality traits may be at increased risk for drug use problems, and studying personality may help researchers better understand and treat these problems. Attempting to link genetic disposition to substance use disorders has proven unsuccessful. There are however many studies that have shown positive correlations between risky personalities and drug use. Understanding this relation could lead to better treatment.\n",
    "The dataset used for this project is referenced. There are limitations to the study since the collected sample is biased with respect to the general world population but it remains useful for risk evaluation. Each column of attributes has been normalized using T-scores and is described below.\n",
    "\n",
    "[T Score\n",
    "The term t score has different meanings in different settings:\n",
    "\t\tIn introductory statistics, t score is often used synonomously with t statistic.\n",
    "\t\tIn psychometrics, a t score is a type of standard score computed by multiplying a z-score by 10 and adding 50.\n",
    "\t\tIn bone density tests, a t score compares bone mineral density to a reference mean.\n",
    "Often, the meaning is clear from the context. In educational research, the psychometric definition generally applies. In papers on osteoporosis, the bone density definition is probably the intended definition.\n",
    "Sometimes, though, the meaning is not clear. Some statistics texts use the term to mean \"t statistic\". Others use the psychometric definition.\n",
    "To avoid confusion, the Stat Trek website avoids the term \"t score\". It uses \"t statistic\", instead.]\n",
    "\n",
    "\n",
    "EScore: Escore (Real) is NEO-FFI-R Extraversion. Extraversion is one of the five personality traits of the Big Five personality theory. It indicates how outgoing and social a person is. A person who scores high in extraversion on a personality test is the life of the party.\n",
    "\n",
    "Might have to figure out the other kinds of scores from internet. \n",
    "\n",
    "some references:\n",
    "Drug, Wikipedia URL: https://en.wikipedia.org/wiki/Drug\n",
    "The Five Factor Model of personality Model of Personality and Evaluation of Drug Consumption risk, E.Fehrman, A.K. Muhammad, E.M. Mirkes, V. Egan, A.N Gorban. URL: https://arxiv.org/abs/1506.06297\n",
    "Detecting and Assessing Alcohol and Other Drug Use. URL: https://www.ncbi.nlm.nih.gov/books/NBK236259/\n"
   ]
  },
  {
   "cell_type": "markdown",
   "metadata": {},
   "source": [
    "## 02 - Data Set\n",
    "<b>Source</b>: Jacob Eli Thomas, HeadCoach NeueFische<br>\n",
    "<b>Time</b>: 2019.11.19 10:38 ALPHA<br>"
   ]
  },
  {
   "cell_type": "markdown",
   "metadata": {},
   "source": [
    "https://drive.google.com/drive/folders/1QpT85QJW9NK41Shiyx9Ol_Pc_RjLzFIF"
   ]
  },
  {
   "cell_type": "markdown",
   "metadata": {},
   "source": [
    "## 03 - Data Explanation\n",
    "<b>Source</b>: UCI Machine Learning Reposatory<br>\n",
    "<b>Time</b>: 2016.10.17<br>"
   ]
  },
  {
   "cell_type": "markdown",
   "metadata": {},
   "source": [
    "https://archive.ics.uci.edu/ml/datasets/Drug+consumption+%28quantified%29"
   ]
  }
 ],
 "metadata": {
  "kernelspec": {
   "display_name": "Python [conda env:nf] *",
   "language": "python",
   "name": "conda-env-nf-py"
  },
  "language_info": {
   "codemirror_mode": {
    "name": "ipython",
    "version": 3
   },
   "file_extension": ".py",
   "mimetype": "text/x-python",
   "name": "python",
   "nbconvert_exporter": "python",
   "pygments_lexer": "ipython3",
   "version": "3.6.6"
  }
 },
 "nbformat": 4,
 "nbformat_minor": 2
}
